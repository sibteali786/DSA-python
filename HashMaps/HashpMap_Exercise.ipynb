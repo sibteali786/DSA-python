{
 "cells": [
  {
   "cell_type": "code",
   "execution_count": 7,
   "outputs": [],
   "source": [
    "weather = {}\n",
    "with open(\"nyc_weather.csv\",\"r\") as f:\n",
    "    for line in f:\n",
    "        valuePair = line.split(\",\")\n",
    "        if valuePair[0] == \"date\":\n",
    "            continue\n",
    "        date = valuePair[0]\n",
    "        temp = int(valuePair[1])\n",
    "        weather[date] = temp\n"
   ],
   "metadata": {
    "collapsed": false
   }
  },
  {
   "cell_type": "code",
   "execution_count": 9,
   "outputs": [
    {
     "data": {
      "text/plain": "{'Jan 1': 27,\n 'Jan 2': 31,\n 'Jan 3': 23,\n 'Jan 4': 34,\n 'Jan 5': 37,\n 'Jan 6': 38,\n 'Jan 7': 29,\n 'Jan 8': 30,\n 'Jan 9': 35,\n 'Jan 10': 30}"
     },
     "execution_count": 9,
     "metadata": {},
     "output_type": "execute_result"
    }
   ],
   "source": [
    "weather"
   ],
   "metadata": {
    "collapsed": false
   }
  },
  {
   "cell_type": "markdown",
   "source": [
    "# Exercise 1"
   ],
   "metadata": {
    "collapsed": false
   }
  },
  {
   "cell_type": "code",
   "execution_count": 15,
   "outputs": [
    {
     "name": "stdout",
     "output_type": "stream",
     "text": [
      "24.9\n"
     ]
    }
   ],
   "source": [
    "def avgTemp(dictionary):\n",
    "    avgTemperature = 0\n",
    "    weekday = 0\n",
    "    for value in dictionary.values():\n",
    "        if weekday > 7: break\n",
    "        avgTemperature += value\n",
    "        weekday += 1\n",
    "    avgTemperature = avgTemperature/len(dictionary)\n",
    "    print(avgTemperature)\n",
    "avgTemp(weather)\n"
   ],
   "metadata": {
    "collapsed": false
   }
  },
  {
   "cell_type": "markdown",
   "source": [
    "# Exercise 1 (ii)"
   ],
   "metadata": {
    "collapsed": false
   }
  },
  {
   "cell_type": "code",
   "execution_count": 19,
   "outputs": [
    {
     "name": "stdout",
     "output_type": "stream",
     "text": [
      "38\n"
     ]
    }
   ],
   "source": [
    "print(max(weather.values()))"
   ],
   "metadata": {
    "collapsed": false
   }
  },
  {
   "cell_type": "markdown",
   "source": [
    "# Exercise 2 (i)\n"
   ],
   "metadata": {
    "collapsed": false
   }
  },
  {
   "cell_type": "code",
   "execution_count": 21,
   "outputs": [
    {
     "name": "stdout",
     "output_type": "stream",
     "text": [
      "35\n"
     ]
    }
   ],
   "source": [
    "temp_Jan9 = weather[\"Jan 9\"]\n",
    "print(temp_Jan9)"
   ],
   "metadata": {
    "collapsed": false
   }
  },
  {
   "cell_type": "markdown",
   "source": [
    "# Exercise (ii)"
   ],
   "metadata": {
    "collapsed": false
   }
  },
  {
   "cell_type": "code",
   "execution_count": 23,
   "outputs": [
    {
     "name": "stdout",
     "output_type": "stream",
     "text": [
      "34\n"
     ]
    }
   ],
   "source": [
    "temp_Jan4 = weather[\"Jan 4\"]\n",
    "print(temp_Jan4)"
   ],
   "metadata": {
    "collapsed": false
   }
  },
  {
   "cell_type": "markdown",
   "source": [
    "# Exercise 3\n"
   ],
   "metadata": {
    "collapsed": false
   }
  },
  {
   "cell_type": "code",
   "execution_count": 37,
   "outputs": [
    {
     "data": {
      "text/plain": "{'Two': 2,\n 'roads': 2,\n 'diverged': 2,\n 'in': 3,\n 'a': 3,\n 'yellow': 1,\n 'wood,': 2,\n 'And': 6,\n 'sorry': 1,\n 'I': 8,\n 'could': 2,\n 'not': 1,\n 'travel': 1,\n 'both': 2,\n 'be': 2,\n 'one': 3,\n 'traveler,': 1,\n 'long': 1,\n 'stood': 1,\n 'looked': 1,\n 'down': 1,\n 'as': 5,\n 'far': 1,\n 'To': 1,\n 'where': 1,\n 'it': 2,\n 'bent': 1,\n 'the': 8,\n 'undergrowth;': 1,\n 'Then': 1,\n 'took': 2,\n 'other,': 1,\n 'just': 1,\n 'fair,': 1,\n 'having': 1,\n 'perhaps': 1,\n 'better': 1,\n 'claim,': 1,\n 'Because': 1,\n 'was': 1,\n 'grassy': 1,\n 'and': 3,\n 'wanted': 1,\n 'wear;': 1,\n 'Though': 1,\n 'for': 2,\n 'that': 3,\n 'passing': 1,\n 'there': 1,\n 'Had': 1,\n 'worn': 1,\n 'them': 1,\n 'really': 1,\n 'about': 1,\n 'same,': 1,\n 'morning': 1,\n 'equally': 1,\n 'lay': 1,\n 'In': 1,\n 'leaves': 1,\n 'no': 1,\n 'step': 1,\n 'had': 1,\n 'trodden': 1,\n 'black.': 1,\n 'Oh,': 1,\n 'kept': 1,\n 'first': 1,\n 'another': 1,\n 'day!': 1,\n 'Yet': 1,\n 'knowing': 1,\n 'how': 1,\n 'way': 1,\n 'leads': 1,\n 'on': 1,\n 'to': 1,\n 'way,': 1,\n 'doubted': 1,\n 'if': 1,\n 'should': 1,\n 'ever': 1,\n 'come': 1,\n 'back.': 1,\n 'shall': 1,\n 'telling': 1,\n 'this': 1,\n 'with': 1,\n 'sigh': 1,\n 'Somewhere': 1,\n 'ages': 2,\n 'hence:': 1,\n 'Iâ€”': 1,\n 'less': 1,\n 'traveled': 1,\n 'by,': 1,\n 'has': 1,\n 'made': 1,\n 'all': 1,\n 'difference.': 1}"
     },
     "execution_count": 37,
     "metadata": {},
     "output_type": "execute_result"
    }
   ],
   "source": [
    "poem = {}\n",
    "with open(\"poem.txt\",\"r\") as f:\n",
    "    for line in f:\n",
    "        listOfStrings = line.split()\n",
    "        for word in listOfStrings:\n",
    "            word = word.replace(\"\\n\",\"\")\n",
    "            if word in poem.keys():\n",
    "                poem[word] += 1\n",
    "            else:\n",
    "                poem[word] = 1\n",
    "\n",
    "poem\n",
    "\n"
   ],
   "metadata": {
    "collapsed": false
   }
  },
  {
   "cell_type": "markdown",
   "source": [
    "# Exercise 4\n"
   ],
   "metadata": {
    "collapsed": false
   }
  },
  {
   "cell_type": "code",
   "execution_count": 73,
   "outputs": [],
   "source": [
    "class HashTable:\n",
    "    def __init__(self):\n",
    "        self.MAX = 10\n",
    "        self.arr = [None for i in range(self.MAX)]\n",
    "\n",
    "    def get_hash(self, key):\n",
    "        hash = 0\n",
    "        for char in key:\n",
    "            hash += ord(char)\n",
    "        return hash % self.MAX\n",
    "\n",
    "    def __getitem__(self, key):\n",
    "        arr_index = self.get_hash(key)\n",
    "        # handle same index issue\n",
    "        for i in range(self.MAX):\n",
    "            if self.arr[i] ==\n",
    "\n",
    "    def __setitem__(self, key, val):\n",
    "        h = self.get_hash(key)\n",
    "        if self.arr[h] is None:\n",
    "            self.arr[h] = val\n",
    "        else:\n",
    "            for i in range(self.MAX):\n",
    "                if self.arr[i] is None:\n",
    "                    self.arr[i] = val\n",
    "                    break\n",
    "\n",
    "\n",
    "    def __delitem__(self, key):\n",
    "        arr_index = self.get_hash(key)\n",
    "        for index, kv in enumerate(self.arr[arr_index]):\n",
    "            if kv[0] == key:\n",
    "                print(\"del\",index)\n",
    "                del self.arr[arr_index][index]\n"
   ],
   "metadata": {
    "collapsed": false
   }
  },
  {
   "cell_type": "code",
   "execution_count": 79,
   "outputs": [
    {
     "data": {
      "text/plain": "[420, 67, 2234, 2435, None, None, None, None, None, 310]"
     },
     "execution_count": 79,
     "metadata": {},
     "output_type": "execute_result"
    }
   ],
   "source": [
    "t = HashTable()\n",
    "t[\"march 6\"] = 310\n",
    "t[\"march 7\"] = 420\n",
    "t[\"march 8\"] = 67\n",
    "t[\"march 17\"] = 2234\n",
    "t[\"march 26\"] = 2435\n",
    "t.arr"
   ],
   "metadata": {
    "collapsed": false
   }
  },
  {
   "cell_type": "code",
   "execution_count": 81,
   "outputs": [],
   "source": [
    "\n",
    "class HashTable:\n",
    "    def __init__(self):\n",
    "        self.MAX = 10 # I am keeping size very low to demonstrate linear probing easily but usually the size should be high\n",
    "        self.arr = [None for i in range(self.MAX)]\n",
    "\n",
    "    def get_hash(self, key):\n",
    "        hash = 0\n",
    "        for char in key:\n",
    "            hash += ord(char)\n",
    "        return hash % self.MAX\n",
    "\n",
    "    def __getitem__(self, key):\n",
    "        h = self.get_hash(key)\n",
    "        if self.arr[h] is None:\n",
    "            return\n",
    "        prob_range = self.get_prob_range(h)\n",
    "        for prob_index in prob_range:\n",
    "            element = self.arr[prob_index]\n",
    "            if element is None:\n",
    "                return\n",
    "            if element[0] == key:\n",
    "                return element[1]\n",
    "\n",
    "    def __setitem__(self, key, val):\n",
    "        h = self.get_hash(key)\n",
    "        if self.arr[h] is None:\n",
    "            self.arr[h] = (key,val)\n",
    "        else:\n",
    "            new_h = self.find_slot(key, h)\n",
    "            self.arr[new_h] = (key,val)\n",
    "        print(self.arr)\n",
    "\n",
    "    def get_prob_range(self, index):\n",
    "        return [*range(index, len(self.arr))] + [*range(0,index)]\n",
    "\n",
    "    def find_slot(self, key, index):\n",
    "        prob_range = self.get_prob_range(index)\n",
    "        for prob_index in prob_range:\n",
    "            if self.arr[prob_index] is None:\n",
    "                return prob_index\n",
    "            if self.arr[prob_index][0] == key:\n",
    "                return prob_index\n",
    "        raise Exception(\"Hashmap full\")\n",
    "\n",
    "    def __delitem__(self, key):\n",
    "        h = self.get_hash(key)\n",
    "        prob_range = self.get_prob_range(h)\n",
    "        for prob_index in prob_range:\n",
    "            if self.arr[prob_index] is None:\n",
    "                return # item not found so return. You can also throw exception\n",
    "            if self.arr[prob_index][0] == key:\n",
    "                self.arr[prob_index]=None\n",
    "        print(self.arr)\n"
   ],
   "metadata": {
    "collapsed": false
   }
  },
  {
   "cell_type": "code",
   "execution_count": 85,
   "outputs": [
    {
     "name": "stdout",
     "output_type": "stream",
     "text": [
      "[None, None, None, None, None, None, None, None, None, ('march 6', 310)]\n",
      "[('march 7', 420), None, None, None, None, None, None, None, None, ('march 6', 310)]\n",
      "[('march 7', 420), ('march 8', 67), None, None, None, None, None, None, None, ('march 6', 310)]\n",
      "[('march 7', 420), ('march 8', 67), ('march 17', 2234), None, None, None, None, None, None, ('march 6', 310)]\n",
      "[('march 7', 420), ('march 8', 67), ('march 17', 2234), ('march 26', 2435), None, None, None, None, None, ('march 6', 310)]\n"
     ]
    },
    {
     "data": {
      "text/plain": "2435"
     },
     "execution_count": 85,
     "metadata": {},
     "output_type": "execute_result"
    }
   ],
   "source": [
    "t = HashTable()\n",
    "t[\"march 6\"] = 310\n",
    "t[\"march 7\"] = 420\n",
    "t[\"march 8\"] = 67\n",
    "t[\"march 17\"] = 2234\n",
    "t[\"march 26\"] = 2435\n",
    "t[\"march 26\"]"
   ],
   "metadata": {
    "collapsed": false
   }
  }
 ],
 "metadata": {
  "kernelspec": {
   "display_name": "Python 3",
   "language": "python",
   "name": "python3"
  },
  "language_info": {
   "codemirror_mode": {
    "name": "ipython",
    "version": 2
   },
   "file_extension": ".py",
   "mimetype": "text/x-python",
   "name": "python",
   "nbconvert_exporter": "python",
   "pygments_lexer": "ipython2",
   "version": "2.7.6"
  }
 },
 "nbformat": 4,
 "nbformat_minor": 0
}
